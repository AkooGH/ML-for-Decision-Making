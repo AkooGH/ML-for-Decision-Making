{
 "cells": [
  {
   "cell_type": "markdown",
   "id": "b9c883ff",
   "metadata": {},
   "source": [
    "# Employee Rating Analysis\n",
    "This notebook performs exploratory data analysis (EDA) on the employee activity ratings dataset."
   ]
  },
  {
   "cell_type": "markdown",
   "id": "18ac70b8",
   "metadata": {},
   "source": [
    "## Load Dataset\n",
    "We begin by loading the dataset and displaying the first few rows."
   ]
  },
  {
   "cell_type": "code",
   "execution_count": null,
   "id": "6fda0991",
   "metadata": {},
   "outputs": [],
   "source": [
    "import pandas as pd\n",
    "\n",
    "df = pd.read_csv('emp_rating.csv')\n",
    "df.head()"
   ]
  },
  {
   "cell_type": "markdown",
   "id": "6c2948ab",
   "metadata": {},
   "source": [
    "## Dataset Overview\n",
    "We check the shape, column names, and data types."
   ]
  },
  {
   "cell_type": "code",
   "execution_count": null,
   "id": "4d98f254",
   "metadata": {},
   "outputs": [],
   "source": [
    "df.info()"
   ]
  },
  {
   "cell_type": "markdown",
   "id": "c637ef54",
   "metadata": {},
   "source": [
    "## Summary Statistics\n",
    "We generate summary statistics for the numeric columns."
   ]
  },
  {
   "cell_type": "code",
   "execution_count": null,
   "id": "4b603ed9",
   "metadata": {},
   "outputs": [],
   "source": [
    "df.describe()"
   ]
  },
  {
   "cell_type": "markdown",
   "id": "0eef8210",
   "metadata": {},
   "source": [
    "## Missing Values\n",
    "We check for any missing values in the dataset."
   ]
  },
  {
   "cell_type": "code",
   "execution_count": null,
   "id": "6f2d5763",
   "metadata": {},
   "outputs": [],
   "source": [
    "df.isnull().sum()"
   ]
  },
  {
   "cell_type": "markdown",
   "id": "8039419b",
   "metadata": {},
   "source": [
    "## Histograms\n",
    "We plot histograms for each activity rating to understand their distributions."
   ]
  },
  {
   "cell_type": "code",
   "execution_count": null,
   "id": "42932ce1",
   "metadata": {},
   "outputs": [],
   "source": [
    "import matplotlib.pyplot as plt\n",
    "df.iloc[:, 2:].hist(bins=20, figsize=(12, 10))\n",
    "plt.tight_layout()\n",
    "plt.show()"
   ]
  },
  {
   "cell_type": "markdown",
   "id": "de7783ed",
   "metadata": {},
   "source": [
    "## Box Plots\n",
    "We use box plots to visualize the spread and detect outliers in each activity rating."
   ]
  },
  {
   "cell_type": "code",
   "execution_count": null,
   "id": "74714a7d",
   "metadata": {},
   "outputs": [],
   "source": [
    "import seaborn as sns\n",
    "import matplotlib.pyplot as plt\n",
    "plt.figure(figsize=(12, 6))\n",
    "sns.boxplot(data=df.iloc[:, 2:])\n",
    "plt.xticks(rotation=45)\n",
    "plt.title('Box Plot of Activity Ratings')\n",
    "plt.show()"
   ]
  },
  {
   "cell_type": "markdown",
   "id": "1cf39a75",
   "metadata": {},
   "source": [
    "## Correlation Heatmap\n",
    "We compute and visualize the correlation matrix for the activity ratings."
   ]
  },
  {
   "cell_type": "code",
   "execution_count": null,
   "id": "b694442b",
   "metadata": {},
   "outputs": [],
   "source": [
    "plt.figure(figsize=(10, 8))\n",
    "sns.heatmap(df.iloc[:, 2:].corr(), annot=True, cmap='coolwarm', fmt='.2f')\n",
    "plt.title('Correlation Heatmap')\n",
    "plt.show()"
   ]
  }
 ],
 "metadata": {},
 "nbformat": 4,
 "nbformat_minor": 5
}
