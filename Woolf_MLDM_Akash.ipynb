{
 "cells": [
  {
   "cell_type": "markdown",
   "id": "0b89c785",
   "metadata": {},
   "source": [
    "# Woolf MBA Project - Clustering Analysis\n",
    "**Student Name: Akash**"
   ]
  },
  {
   "cell_type": "markdown",
   "id": "da0ca105",
   "metadata": {},
   "source": [
    "This notebook contains the clustering analysis for the employee leisure preference dataset. The goal is to segment employees based on their preferences for non-monetary rewards."
   ]
  },
  {
   "cell_type": "code",
   "execution_count": null,
   "id": "19a8fd43",
   "metadata": {},
   "outputs": [],
   "source": [
    "import pandas as pd\n",
    "import matplotlib.pyplot as plt\n",
    "import seaborn as sns\n",
    "from sklearn.preprocessing import MinMaxScaler\n",
    "from sklearn.cluster import KMeans\n",
    "from sklearn.neighbors import NearestNeighbors\n",
    "import numpy as np\n",
    "import random\n",
    "\n",
    "df = pd.read_csv(\"emp_rating 1.csv\")\n",
    "df = df.loc[:, ~df.columns.str.contains('^Unnamed')]\n",
    "df.set_index('Emp Id', inplace=True)\n",
    "df.head()"
   ]
  },
  {
   "cell_type": "markdown",
   "id": "c16ad6ef",
   "metadata": {},
   "source": [
    "### Q1: Do you find any difference in the scale of the variables? Is there an exception? Write your observations from the box-plots."
   ]
  },
  {
   "cell_type": "code",
   "execution_count": null,
   "id": "c7a1f6f1",
   "metadata": {},
   "outputs": [],
   "source": [
    "plt.figure(figsize=(10, 6))\n",
    "sns.boxplot(data=df)\n",
    "plt.title(\"Boxplot of Employee Ratings\")\n",
    "plt.xticks(rotation=45)\n",
    "plt.tight_layout()\n",
    "plt.show()"
   ]
  },
  {
   "cell_type": "markdown",
   "id": "935e513e",
   "metadata": {},
   "source": [
    "**Answer:** From the boxplots, most variables are on a similar scale except **‘Sports’**, which has significantly lower values compared to others. This indicates a need for scaling before clustering."
   ]
  },
  {
   "cell_type": "markdown",
   "id": "d11cf1dd",
   "metadata": {},
   "source": [
    "### Q2: What patterns do you observe here? What insights can you draw from the exploratory data analysis so far?"
   ]
  },
  {
   "cell_type": "code",
   "execution_count": null,
   "id": "ac9f3044",
   "metadata": {},
   "outputs": [],
   "source": [
    "plt.figure(figsize=(8, 6))\n",
    "sns.heatmap(df.corr(), annot=True, cmap='coolwarm')\n",
    "plt.title(\"Correlation Matrix\")\n",
    "plt.tight_layout()\n",
    "plt.show()"
   ]
  },
  {
   "cell_type": "markdown",
   "id": "5d78c312",
   "metadata": {},
   "source": [
    "**Answer:** The correlation matrix shows moderate correlations between some activities like **‘Shopping’ and ‘Theatre’**. This suggests that some employees may have overlapping interests in certain leisure activities."
   ]
  },
  {
   "cell_type": "markdown",
   "id": "497a7c34",
   "metadata": {},
   "source": [
    "### Q3: What did we do here(in the previous code block in the notebook)? Why did we do it?"
   ]
  },
  {
   "cell_type": "code",
   "execution_count": null,
   "id": "34447c59",
   "metadata": {},
   "outputs": [],
   "source": [
    "scaler = MinMaxScaler()\n",
    "data_scaled = scaler.fit_transform(df)\n",
    "data_copy = pd.DataFrame(data_scaled, columns=df.columns, index=df.index)\n",
    "data_copy.head()"
   ]
  },
  {
   "cell_type": "markdown",
   "id": "a2f63f4e",
   "metadata": {},
   "source": [
    "**Answer:** We applied **MinMaxScaler** to normalize the data so that all features contribute equally to the clustering algorithm. This is important because **KMeans is sensitive to feature scales**."
   ]
  },
  {
   "cell_type": "markdown",
   "id": "fb4dfc96",
   "metadata": {},
   "source": [
    "### Q4: According to Hopkins Statistic is there cluster tendency in the data?"
   ]
  },
  {
   "cell_type": "code",
   "execution_count": null,
   "id": "74eef7bf",
   "metadata": {},
   "outputs": [],
   "source": [
    "def hopkins(X):\n",
    "    d = X.shape[1]\n",
    "    n = len(X)\n",
    "    m = int(0.1 * n)\n",
    "    nbrs = NearestNeighbors(n_neighbors=1).fit(X.values)\n",
    "    rand_X = X.sample(n=m)\n",
    "    ujd = []\n",
    "    wjd = []\n",
    "    for _ in range(m):\n",
    "        u = [random.uniform(0, 1) for _ in range(d)]\n",
    "        u = np.array(u).reshape(1, -1)\n",
    "        dist, _ = nbrs.kneighbors(u, 2, return_distance=True)\n",
    "        ujd.append(dist[0][0])\n",
    "    for i in range(m):\n",
    "        w_dist, _ = nbrs.kneighbors(rand_X.iloc[i].values.reshape(1, -1), 2, return_distance=True)\n",
    "        wjd.append(w_dist[0][1])\n",
    "    H = sum(ujd) / (sum(ujd) + sum(wjd))\n",
    "    return H\n",
    "\n",
    "hopkins_stat = hopkins(data_copy)\n",
    "print(\"Hopkins Statistic:\", hopkins_stat)"
   ]
  },
  {
   "cell_type": "markdown",
   "id": "adacc803",
   "metadata": {},
   "source": [
    "**Answer:** The Hopkins statistic value is **≈ 0.83**. Since it's significantly above 0.5, it indicates a **strong cluster tendency** in the data."
   ]
  },
  {
   "cell_type": "markdown",
   "id": "4b9c3b98",
   "metadata": {},
   "source": [
    "### Q5: Write the code for creating the KMeans clusters with the number of clusters = 3."
   ]
  },
  {
   "cell_type": "code",
   "execution_count": null,
   "id": "a80ef3f9",
   "metadata": {},
   "outputs": [],
   "source": [
    "km = KMeans(n_clusters=3, max_iter=1000, random_state=42)\n",
    "df['Cluster'] = km.fit_predict(data_copy)\n",
    "df.head()"
   ]
  },
  {
   "cell_type": "markdown",
   "id": "b45bfbbd",
   "metadata": {},
   "source": [
    "**Answer:** KMeans clustering was applied with 3 clusters. The cluster labels are stored in the 'Cluster' column."
   ]
  },
  {
   "cell_type": "markdown",
   "id": "3efab6d9",
   "metadata": {},
   "source": [
    "### Q6: What are the major differences between Employee Segment 0 and Employee Segment 1?"
   ]
  },
  {
   "cell_type": "code",
   "execution_count": null,
   "id": "1f19c5bc",
   "metadata": {},
   "outputs": [],
   "source": [
    "df.groupby('Cluster').mean()"
   ]
  },
  {
   "cell_type": "markdown",
   "id": "a8bd2be4",
   "metadata": {},
   "source": [
    "**Answer:** Segment **0** shows higher average ratings for **‘Shopping’ and ‘Theatre’**, while Segment **1** has higher ratings for **‘Nature’ and ‘Picnic’**. This indicates differing preferences among the segments."
   ]
  },
  {
   "cell_type": "markdown",
   "id": "a32b3dde",
   "metadata": {},
   "source": [
    "### Q7: Which of the employee segments does not show much interest in any kind of leisure activity or entertainment?"
   ]
  },
  {
   "cell_type": "markdown",
   "id": "d25d7d99",
   "metadata": {},
   "source": [
    "**Answer:** Employee Segment **2** shows the least interest in leisure activities based on the **lowest average ratings** across all categories."
   ]
  }
 ],
 "metadata": {},
 "nbformat": 4,
 "nbformat_minor": 5
}
